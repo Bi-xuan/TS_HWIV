{
 "cells": [
  {
   "cell_type": "markdown",
   "id": "183556e1-2124-43db-9b49-918c4ef52f7b",
   "metadata": {},
   "source": [
    "# HWIV\n",
    "\n",
    "Bixuan LIU"
   ]
  },
  {
   "cell_type": "markdown",
   "id": "f6adffdf-a306-4214-86a7-98b131c83bf3",
   "metadata": {},
   "source": [
    "## I. NN Model for 1-dimensional time series data\n",
    "In this section,"
   ]
  },
  {
   "cell_type": "markdown",
   "id": "a491a2c1-6e60-4159-ba4b-8fde1d922a62",
   "metadata": {},
   "source": [
    "### 1. Define model class"
   ]
  },
  {
   "cell_type": "code",
   "execution_count": 46,
   "id": "1d2deab5-bce1-47b1-8305-3c7d6aedf51b",
   "metadata": {},
   "outputs": [],
   "source": [
    "import torch\n",
    "import torch.nn as nn\n",
    "import torch.optim as optim\n",
    "import numpy as np\n",
    "\n",
    "class SimpleNN(nn.Module):\n",
    "    def __init__(self, input_size, hidden_size, output_size):\n",
    "        super(SimpleNN, self).__init__()\n",
    "        self.fc1 = nn.Linear(input_size, hidden_size)\n",
    "        self.relu = nn.ReLU()\n",
    "        self.fc2 = nn.Linear(hidden_size, output_size)\n",
    "\n",
    "    def forward(self, x):\n",
    "        x = self.fc1(x)\n",
    "        x = self.relu(x)\n",
    "        x = self.fc2(x)\n",
    "        return x"
   ]
  },
  {
   "cell_type": "markdown",
   "id": "019df591-e93e-487a-b8d5-48ce1d6145f7",
   "metadata": {},
   "source": [
    "### 2. Initialize the model"
   ]
  },
  {
   "cell_type": "code",
   "execution_count": 60,
   "id": "7a79a269-36be-4556-b155-678fcafa49ff",
   "metadata": {},
   "outputs": [],
   "source": [
    "input_size = 1  # One-dimensional time series data\n",
    "hidden_size = 5  # Number of nodes in the hidden layer\n",
    "output_size = 1  # Output size (regression)\n",
    "\n",
    "model = SimpleNN(input_size, hidden_size, output_size)\n",
    "\n",
    "# Define loss function and optimizer\n",
    "criterion = nn.MSELoss()\n",
    "optimizer = optim.Adam(model.parameters(), lr=0.001)"
   ]
  },
  {
   "cell_type": "markdown",
   "id": "c76529d0-3df3-477e-b644-c42a084eadf5",
   "metadata": {},
   "source": [
    "### 3. Train the model"
   ]
  },
  {
   "cell_type": "code",
   "execution_count": 39,
   "id": "aeb80d06-f552-4556-a811-fede2efd7a04",
   "metadata": {},
   "outputs": [
    {
     "name": "stdout",
     "output_type": "stream",
     "text": [
      "          date         umply            pop\n",
      "0   1995-01-01   4868.757781  171547.891390\n",
      "1   1995-02-01   4808.390434  171880.830559\n",
      "2   1995-03-01   4703.403744  172197.741094\n",
      "3   1995-04-01   4365.696555  171821.691070\n",
      "4   1995-05-01   4168.846510  172111.474364\n",
      "..         ...           ...            ...\n",
      "339 2023-04-01  15330.000000  308689.287139\n",
      "340 2023-05-01  15188.000000  308891.139093\n",
      "341 2023-06-01  15333.000000  309476.907263\n",
      "342 2023-07-01  16111.000000  307174.983768\n",
      "343 2023-08-01  16056.000000  306380.562733\n",
      "\n",
      "[344 rows x 3 columns]\n"
     ]
    }
   ],
   "source": [
    "# Import data\n",
    "import pandas as pd\n",
    "\n",
    "# Read the Excel file into a DataFrame\n",
    "df = pd.read_excel(\"HWIV_data_liu.xlsx\")\n",
    "df.rename(columns={'Time period': 'date', '9. Number of Unemployed': 'umply', '10. Active Population': 'pop'}, inplace=True)\n",
    "\n",
    "print(df)"
   ]
  },
  {
   "cell_type": "code",
   "execution_count": 48,
   "id": "fdd66e0f-d169-46a9-946e-695d20c7a44b",
   "metadata": {},
   "outputs": [
    {
     "name": "stdout",
     "output_type": "stream",
     "text": [
      "          date  umply_gr    pop_gr\n",
      "0   1996-01-01  0.068464  0.032177\n",
      "1   1996-02-01  0.072416  0.029055\n",
      "2   1996-03-01  0.053199  0.028199\n",
      "3   1996-04-01  0.109018  0.031830\n",
      "4   1996-05-01  0.107450  0.027202\n",
      "..         ...       ...       ...\n",
      "327 2023-04-01  0.074357  0.025367\n",
      "328 2023-05-01  0.089058  0.024345\n",
      "329 2023-06-01  0.124285  0.024101\n",
      "330 2023-07-01  0.129883  0.023301\n",
      "331 2023-08-01  0.134459  0.022038\n",
      "\n",
      "[332 rows x 3 columns]\n"
     ]
    }
   ],
   "source": [
    "# Convert the data into yearly growth rates\n",
    "df['umply_gr'] = (df['umply'] - df['umply'].shift(12)) / df['umply'].shift(12)\n",
    "df['pop_gr'] = (df['pop'] - df['pop'].shift(12)) / df['pop'].shift(12)\n",
    "\n",
    "df_gr = df.loc[12:, ['date', 'umply_gr', 'pop_gr']].reset_index(drop=True)\n",
    "\n",
    "print(df_gr)"
   ]
  },
  {
   "cell_type": "code",
   "execution_count": 49,
   "id": "07cdb048-d5ff-47f8-8d8f-b320b9d3946f",
   "metadata": {},
   "outputs": [],
   "source": [
    "# Define the split point based on the length of the DataFrame\n",
    "split_point = int(0.8 * len(df_gr))\n",
    "\n",
    "# Split the time series data\n",
    "train_data = df_gr['umply_gr'].iloc[:split_point]\n",
    "test_data = df_gr['umply_gr'].iloc[split_point:]\n",
    "\n",
    "# Convert the data to PyTorch tensors\n",
    "train_data = torch.FloatTensor(train_data.values).view(-1, 1)\n",
    "test_data = torch.FloatTensor(test_data.values).view(-1, 1)"
   ]
  },
  {
   "cell_type": "code",
   "execution_count": 61,
   "id": "abb6eb50-79fe-435d-9a5e-f4fd36c999c1",
   "metadata": {},
   "outputs": [
    {
     "name": "stdout",
     "output_type": "stream",
     "text": [
      "Epoch [10/100], Loss: 0.0663\n",
      "Epoch [20/100], Loss: 0.0478\n",
      "Epoch [30/100], Loss: 0.0332\n",
      "Epoch [40/100], Loss: 0.0223\n",
      "Epoch [50/100], Loss: 0.0146\n",
      "Epoch [60/100], Loss: 0.0095\n",
      "Epoch [70/100], Loss: 0.0063\n",
      "Epoch [80/100], Loss: 0.0044\n",
      "Epoch [90/100], Loss: 0.0032\n",
      "Epoch [100/100], Loss: 0.0025\n"
     ]
    }
   ],
   "source": [
    "num_epochs = 100\n",
    "\n",
    "for epoch in range(num_epochs):\n",
    "    # Forward pass\n",
    "    outputs = model(train_data)\n",
    "    loss = criterion(outputs, train_data)\n",
    "\n",
    "    # Backward pass and optimization\n",
    "    optimizer.zero_grad()\n",
    "    loss.backward()\n",
    "    optimizer.step()\n",
    "\n",
    "    if (epoch+1) % 10 == 0:\n",
    "        print(f'Epoch [{epoch+1}/{num_epochs}], Loss: {loss.item():.4f}')"
   ]
  },
  {
   "cell_type": "markdown",
   "id": "db180bbc-3e2e-449a-9939-146fc1cdde27",
   "metadata": {},
   "source": [
    "### 4. Test the model"
   ]
  },
  {
   "cell_type": "code",
   "execution_count": 62,
   "id": "2f774a4a-5812-49c0-a1b3-6a229391f4db",
   "metadata": {},
   "outputs": [
    {
     "name": "stdout",
     "output_type": "stream",
     "text": [
      "\n",
      "Mean Squared Error for One-Step-Ahead Forecast: 0.0044\n"
     ]
    }
   ],
   "source": [
    "with torch.no_grad():\n",
    "    model.eval()\n",
    "\n",
    "    # Initialize an array to store the forecasted values\n",
    "    forecasted_values = []\n",
    "\n",
    "    # Iterate through the test data one step at a time\n",
    "    for i in range(len(test_data)):\n",
    "        input_step = test_data[:i+1]  # Include data up to the current step\n",
    "        output_step = model(input_step)\n",
    "        forecasted_values.append(output_step[-1].item())  # Take the last prediction\n",
    "\n",
    "    # Convert the forecasted values to a PyTorch tensor\n",
    "    forecasted_values_tensor = torch.Tensor(forecasted_values)\n",
    "\n",
    "    # Reshape the forecasted values tensor to match the shape of the target data\n",
    "    forecasted_values_tensor = forecasted_values_tensor.view(-1, 1)\n",
    "\n",
    "    # Calculate the MSE for the one-step-ahead forecast\n",
    "    mse_one_step_ahead = criterion(forecasted_values_tensor, test_data)\n",
    "    print(f'\\nMean Squared Error for One-Step-Ahead Forecast: {mse_one_step_ahead.item():.4f}')\n"
   ]
  }
 ],
 "metadata": {
  "kernelspec": {
   "display_name": "Python 3 (ipykernel)",
   "language": "python",
   "name": "python3"
  },
  "language_info": {
   "codemirror_mode": {
    "name": "ipython",
    "version": 3
   },
   "file_extension": ".py",
   "mimetype": "text/x-python",
   "name": "python",
   "nbconvert_exporter": "python",
   "pygments_lexer": "ipython3",
   "version": "3.9.18"
  }
 },
 "nbformat": 4,
 "nbformat_minor": 5
}
